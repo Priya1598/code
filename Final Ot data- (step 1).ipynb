{
 "cells": [
  {
   "cell_type": "code",
   "execution_count": 1,
   "id": "7e4d9f6e",
   "metadata": {},
   "outputs": [],
   "source": [
    "import pandas as pd\n",
    "import numpy as np"
   ]
  },
  {
   "cell_type": "code",
   "execution_count": 2,
   "id": "73419114",
   "metadata": {},
   "outputs": [
    {
     "name": "stdout",
     "output_type": "stream",
     "text": [
      "Requirement already satisfied: openpyxl in c:\\users\\180100\\appdata\\local\\programs\\python\\python312\\lib\\site-packages (3.1.5)\n",
      "Requirement already satisfied: et-xmlfile in c:\\users\\180100\\appdata\\local\\programs\\python\\python312\\lib\\site-packages (from openpyxl) (1.1.0)\n",
      "Note: you may need to restart the kernel to use updated packages.\n"
     ]
    }
   ],
   "source": [
    "pip install openpyxl"
   ]
  },
  {
   "cell_type": "code",
   "execution_count": 2,
   "id": "503ac77f",
   "metadata": {},
   "outputs": [],
   "source": [
    "df=pd.read_excel(r'C:\\Users\\180100\\OneDrive - NTT DATA North America\\SAP\\Read files\\SAP data Nov 24-30.xlsx')"
   ]
  },
  {
   "cell_type": "code",
   "execution_count": 3,
   "id": "80a8be91",
   "metadata": {},
   "outputs": [
    {
     "data": {
      "text/plain": [
       "Index(['Employee Portal Id', 'Employee Id', 'Employee name', 'Work Date',\n",
       "       'Att Type/Absence Type', 'Billable/Non-Billable', 'NB Type', 'Hours',\n",
       "       'WBS Element', 'Timesheet Status', 'Timesheet Approver Portal Id',\n",
       "       'Date Approved', 'Time Entry Text', 'EE subgroup', 'Cost Centre',\n",
       "       'Cost center name', 'Employee Type', 'Period End Date',\n",
       "       'Timesheet Approver Name', 'Timesheet Approver Emp Id', 'Premium no.',\n",
       "       'Premium ID', 'Grade', 'Country', 'HLM ID'],\n",
       "      dtype='object')"
      ]
     },
     "execution_count": 3,
     "metadata": {},
     "output_type": "execute_result"
    }
   ],
   "source": [
    "df.columns"
   ]
  },
  {
   "cell_type": "code",
   "execution_count": 4,
   "id": "04409b1c",
   "metadata": {},
   "outputs": [
    {
     "data": {
      "text/plain": [
       "Att Type/Absence Type\n",
       "REG                     39704\n",
       "Thanks Giving Day        2111\n",
       "Day After Thanks Giv     2111\n",
       "Compensatory Off         2000\n",
       "Casual Leave             1437\n",
       "Alternate Holiday        1327\n",
       "Privilege Leave          1013\n",
       "ADDH                      876\n",
       "Maternity Leave - pa      826\n",
       "Sick Leave                805\n",
       "Vacation                  572\n",
       "Other Leaves              510\n",
       "Bonifacio Day             308\n",
       "Flex PTO                  215\n",
       "NWRK                      136\n",
       "BNCH                      109\n",
       "Floating Holiday           99\n",
       "Parental Leave             49\n",
       "BNCP                       33\n",
       "Unpaid Leave               32\n",
       "MBRK                       29\n",
       "TRNG                       21\n",
       "Bereavement                18\n",
       "Sick Leave (US Temp)       16\n",
       "Mis-carriage Leave -       12\n",
       "Paternity Leave             9\n",
       "Maternity Leave             7\n",
       "Feast of St Andrew          2\n",
       "Name: count, dtype: int64"
      ]
     },
     "execution_count": 4,
     "metadata": {},
     "output_type": "execute_result"
    }
   ],
   "source": [
    "df['Att Type/Absence Type'].value_counts()"
   ]
  },
  {
   "cell_type": "code",
   "execution_count": 5,
   "id": "a924f9a7",
   "metadata": {},
   "outputs": [],
   "source": [
    "#df = df[df['Att Type/Absence Type'].isin([\"Bereavement\",\"Casual Leave\",\"Maternity Leave\",\"Other Leaves\",\"Parental Leave\",\"Paternity Leave\",\"Personal unpaid <=5\",\"Privilege Leave\",\"REG\",\"Sick Leave\",\"Sick Leave BPO\",\"Sick Leave Temp\",\"TRNG\",\"Vacation\",\"Sick Leave (US Temp)\",\"Sick\",\"Maternity Leave - pa\",\"Parental Leave - pai\"])]"
   ]
  },
  {
   "cell_type": "code",
   "execution_count": 5,
   "id": "753432d0",
   "metadata": {},
   "outputs": [],
   "source": [
    "df = df[df['Att Type/Absence Type'].isin([\"Bereavement\",\"Casual Leave\",\"Maternity Leave\",\"Other Leaves\",\"Parental Leave\",\"Paternity Leave\",\"Personal unpaid <=5\",\"Privilege Leave\",\"REG\",\"Sick Leave\",\"Sick Leave BPO\",\"Sick Leave Temp\",\"TRNG\",\"Vacation\",\"Sick Leave (US Temp)\",\"Sick\",\"Maternity Leave - pa\",\"Parental Leave - pai\",\"Mis-carriage Leave -\",\"Med FMLA unpaid-inte\",\"Unpaid Leave\",\"Half-day leave w/o p\",\"ADDH\",\"NWRK\",\"Special Non Working\"])]"
   ]
  },
  {
   "cell_type": "code",
   "execution_count": 6,
   "id": "8567cdee",
   "metadata": {},
   "outputs": [
    {
     "data": {
      "text/plain": [
       "Att Type/Absence Type\n",
       "REG                     39704\n",
       "Casual Leave             1437\n",
       "Privilege Leave          1013\n",
       "ADDH                      876\n",
       "Maternity Leave - pa      826\n",
       "Sick Leave                805\n",
       "Vacation                  572\n",
       "Other Leaves              510\n",
       "NWRK                      136\n",
       "Parental Leave             49\n",
       "Unpaid Leave               32\n",
       "TRNG                       21\n",
       "Bereavement                18\n",
       "Sick Leave (US Temp)       16\n",
       "Mis-carriage Leave -       12\n",
       "Paternity Leave             9\n",
       "Maternity Leave             7\n",
       "Name: count, dtype: int64"
      ]
     },
     "execution_count": 6,
     "metadata": {},
     "output_type": "execute_result"
    }
   ],
   "source": [
    "df['Att Type/Absence Type'].value_counts()"
   ]
  },
  {
   "cell_type": "code",
   "execution_count": 7,
   "id": "001a593b",
   "metadata": {},
   "outputs": [
    {
     "data": {
      "text/plain": [
       "(46043, 25)"
      ]
     },
     "execution_count": 7,
     "metadata": {},
     "output_type": "execute_result"
    }
   ],
   "source": [
    "df.shape"
   ]
  },
  {
   "cell_type": "code",
   "execution_count": 8,
   "id": "31eb8c58",
   "metadata": {},
   "outputs": [],
   "source": [
    "df['Att Type/Absence Type'] = df['Att Type/Absence Type'].replace([\"Bereavement\",\"Casual Leave\",\"Maternity Leave\",\"Other Leaves\",\"Parental Leave\",\"Paternity Leave\",\"Personal unpaid <=5\",\"Privilege Leave\",\"Sick Leave\",\"Sick Leave BPO\",\"Sick Leave Temp\",\"TRNG\",\"Vacation\",\"Sick Leave (US Temp)\",\"Sick\",\"Maternity Leave - pa\",\"Parental Leave - pai\",\"Mis-carriage Leave -\",\"Med FMLA unpaid-inte\",\"Unpaid Leave\",\"Half-day leave w/o p\",\"ADDH\",\"NWRK\",\"Special Non Working\"],[\"Other leaves\",\"Other leaves\",\"Other leaves\",\"Other leaves\",\"Other leaves\",\"Other leaves\",\"Other leaves\",\"Other leaves\",\"Other leaves\",\"Other leaves\",\"Other leaves\",\"Other leaves\",\"Other leaves\",\"Other leaves\",\"Other leaves\",\"Other leaves\",\"Other leaves\",\"Other leaves\",\"Other leaves\",\"Other leaves\",\"Other leaves\",\"Other leaves\",\"Other leaves\",\"Other leaves\"])"
   ]
  },
  {
   "cell_type": "code",
   "execution_count": 9,
   "id": "ec3adcf6",
   "metadata": {},
   "outputs": [
    {
     "data": {
      "text/plain": [
       "Att Type/Absence Type\n",
       "REG             39704\n",
       "Other leaves     6339\n",
       "Name: count, dtype: int64"
      ]
     },
     "execution_count": 9,
     "metadata": {},
     "output_type": "execute_result"
    }
   ],
   "source": [
    "df['Att Type/Absence Type'].value_counts()"
   ]
  },
  {
   "cell_type": "code",
   "execution_count": 10,
   "id": "46cfde0b",
   "metadata": {},
   "outputs": [
    {
     "data": {
      "text/plain": [
       "Index(['Employee Portal Id', 'Employee Id', 'Employee name', 'Work Date',\n",
       "       'Att Type/Absence Type', 'Billable/Non-Billable', 'NB Type', 'Hours',\n",
       "       'WBS Element', 'Timesheet Status', 'Timesheet Approver Portal Id',\n",
       "       'Date Approved', 'Time Entry Text', 'EE subgroup', 'Cost Centre',\n",
       "       'Cost center name', 'Employee Type', 'Period End Date',\n",
       "       'Timesheet Approver Name', 'Timesheet Approver Emp Id', 'Premium no.',\n",
       "       'Premium ID', 'Grade', 'Country', 'HLM ID'],\n",
       "      dtype='object')"
      ]
     },
     "execution_count": 10,
     "metadata": {},
     "output_type": "execute_result"
    }
   ],
   "source": [
    "df.columns"
   ]
  },
  {
   "cell_type": "code",
   "execution_count": 11,
   "id": "c060d339",
   "metadata": {},
   "outputs": [
    {
     "data": {
      "text/plain": [
       "(46043, 25)"
      ]
     },
     "execution_count": 11,
     "metadata": {},
     "output_type": "execute_result"
    }
   ],
   "source": [
    "df.shape"
   ]
  },
  {
   "cell_type": "code",
   "execution_count": 13,
   "id": "5639012e",
   "metadata": {},
   "outputs": [
    {
     "data": {
      "text/html": [
       "<div>\n",
       "<style scoped>\n",
       "    .dataframe tbody tr th:only-of-type {\n",
       "        vertical-align: middle;\n",
       "    }\n",
       "\n",
       "    .dataframe tbody tr th {\n",
       "        vertical-align: top;\n",
       "    }\n",
       "\n",
       "    .dataframe thead th {\n",
       "        text-align: right;\n",
       "    }\n",
       "</style>\n",
       "<table border=\"1\" class=\"dataframe\">\n",
       "  <thead>\n",
       "    <tr style=\"text-align: right;\">\n",
       "      <th></th>\n",
       "      <th>Employee Portal Id</th>\n",
       "      <th>Employee name</th>\n",
       "      <th>Work Date</th>\n",
       "      <th>Grade</th>\n",
       "      <th>Country</th>\n",
       "      <th>HLM ID</th>\n",
       "      <th>Att Type/Absence Type</th>\n",
       "      <th>Hours</th>\n",
       "    </tr>\n",
       "  </thead>\n",
       "  <tbody>\n",
       "    <tr>\n",
       "      <th>0</th>\n",
       "      <td>13643</td>\n",
       "      <td>Puneet Kumar</td>\n",
       "      <td>2024-11-25</td>\n",
       "      <td>12.0</td>\n",
       "      <td>India</td>\n",
       "      <td>28875.0</td>\n",
       "      <td>REG</td>\n",
       "      <td>9.0</td>\n",
       "    </tr>\n",
       "    <tr>\n",
       "      <th>1</th>\n",
       "      <td>13643</td>\n",
       "      <td>Puneet Kumar</td>\n",
       "      <td>2024-11-26</td>\n",
       "      <td>12.0</td>\n",
       "      <td>India</td>\n",
       "      <td>28875.0</td>\n",
       "      <td>REG</td>\n",
       "      <td>9.0</td>\n",
       "    </tr>\n",
       "    <tr>\n",
       "      <th>2</th>\n",
       "      <td>13643</td>\n",
       "      <td>Puneet Kumar</td>\n",
       "      <td>2024-11-27</td>\n",
       "      <td>12.0</td>\n",
       "      <td>India</td>\n",
       "      <td>28875.0</td>\n",
       "      <td>Other leaves</td>\n",
       "      <td>4.5</td>\n",
       "    </tr>\n",
       "    <tr>\n",
       "      <th>3</th>\n",
       "      <td>13643</td>\n",
       "      <td>Puneet Kumar</td>\n",
       "      <td>2024-11-27</td>\n",
       "      <td>12.0</td>\n",
       "      <td>India</td>\n",
       "      <td>28875.0</td>\n",
       "      <td>REG</td>\n",
       "      <td>9.0</td>\n",
       "    </tr>\n",
       "    <tr>\n",
       "      <th>4</th>\n",
       "      <td>13643</td>\n",
       "      <td>Puneet Kumar</td>\n",
       "      <td>2024-11-28</td>\n",
       "      <td>12.0</td>\n",
       "      <td>India</td>\n",
       "      <td>28875.0</td>\n",
       "      <td>REG</td>\n",
       "      <td>9.0</td>\n",
       "    </tr>\n",
       "    <tr>\n",
       "      <th>...</th>\n",
       "      <td>...</td>\n",
       "      <td>...</td>\n",
       "      <td>...</td>\n",
       "      <td>...</td>\n",
       "      <td>...</td>\n",
       "      <td>...</td>\n",
       "      <td>...</td>\n",
       "      <td>...</td>\n",
       "    </tr>\n",
       "    <tr>\n",
       "      <th>40145</th>\n",
       "      <td>338115</td>\n",
       "      <td>Tripti Khaneja</td>\n",
       "      <td>2024-11-27</td>\n",
       "      <td>5.0</td>\n",
       "      <td>India</td>\n",
       "      <td>78595.0</td>\n",
       "      <td>REG</td>\n",
       "      <td>9.0</td>\n",
       "    </tr>\n",
       "    <tr>\n",
       "      <th>40146</th>\n",
       "      <td>338115</td>\n",
       "      <td>Tripti Khaneja</td>\n",
       "      <td>2024-11-29</td>\n",
       "      <td>5.0</td>\n",
       "      <td>India</td>\n",
       "      <td>78595.0</td>\n",
       "      <td>REG</td>\n",
       "      <td>9.0</td>\n",
       "    </tr>\n",
       "    <tr>\n",
       "      <th>40147</th>\n",
       "      <td>338237</td>\n",
       "      <td>Muhammad Ismail</td>\n",
       "      <td>2024-11-25</td>\n",
       "      <td>3.0</td>\n",
       "      <td>United States</td>\n",
       "      <td>240112.0</td>\n",
       "      <td>REG</td>\n",
       "      <td>8.0</td>\n",
       "    </tr>\n",
       "    <tr>\n",
       "      <th>40148</th>\n",
       "      <td>338237</td>\n",
       "      <td>Muhammad Ismail</td>\n",
       "      <td>2024-11-26</td>\n",
       "      <td>3.0</td>\n",
       "      <td>United States</td>\n",
       "      <td>240112.0</td>\n",
       "      <td>REG</td>\n",
       "      <td>8.0</td>\n",
       "    </tr>\n",
       "    <tr>\n",
       "      <th>40149</th>\n",
       "      <td>338237</td>\n",
       "      <td>Muhammad Ismail</td>\n",
       "      <td>2024-11-27</td>\n",
       "      <td>3.0</td>\n",
       "      <td>United States</td>\n",
       "      <td>240112.0</td>\n",
       "      <td>REG</td>\n",
       "      <td>8.0</td>\n",
       "    </tr>\n",
       "  </tbody>\n",
       "</table>\n",
       "<p>40150 rows × 8 columns</p>\n",
       "</div>"
      ],
      "text/plain": [
       "       Employee Portal Id    Employee name  Work Date  Grade        Country  \\\n",
       "0                   13643     Puneet Kumar 2024-11-25   12.0          India   \n",
       "1                   13643     Puneet Kumar 2024-11-26   12.0          India   \n",
       "2                   13643     Puneet Kumar 2024-11-27   12.0          India   \n",
       "3                   13643     Puneet Kumar 2024-11-27   12.0          India   \n",
       "4                   13643     Puneet Kumar 2024-11-28   12.0          India   \n",
       "...                   ...              ...        ...    ...            ...   \n",
       "40145              338115   Tripti Khaneja 2024-11-27    5.0          India   \n",
       "40146              338115   Tripti Khaneja 2024-11-29    5.0          India   \n",
       "40147              338237  Muhammad Ismail 2024-11-25    3.0  United States   \n",
       "40148              338237  Muhammad Ismail 2024-11-26    3.0  United States   \n",
       "40149              338237  Muhammad Ismail 2024-11-27    3.0  United States   \n",
       "\n",
       "         HLM ID Att Type/Absence Type  Hours  \n",
       "0       28875.0                   REG    9.0  \n",
       "1       28875.0                   REG    9.0  \n",
       "2       28875.0          Other leaves    4.5  \n",
       "3       28875.0                   REG    9.0  \n",
       "4       28875.0                   REG    9.0  \n",
       "...         ...                   ...    ...  \n",
       "40145   78595.0                   REG    9.0  \n",
       "40146   78595.0                   REG    9.0  \n",
       "40147  240112.0                   REG    8.0  \n",
       "40148  240112.0                   REG    8.0  \n",
       "40149  240112.0                   REG    8.0  \n",
       "\n",
       "[40150 rows x 8 columns]"
      ]
     },
     "execution_count": 13,
     "metadata": {},
     "output_type": "execute_result"
    }
   ],
   "source": [
    "df.groupby(['Employee Portal Id','Employee name','Work Date','Grade','Country','HLM ID','Att Type/Absence Type'])['Hours'].sum().reset_index()"
   ]
  },
  {
   "cell_type": "code",
   "execution_count": null,
   "id": "1fa76d12",
   "metadata": {},
   "outputs": [],
   "source": []
  },
  {
   "cell_type": "code",
   "execution_count": 14,
   "id": "45b8404e",
   "metadata": {},
   "outputs": [],
   "source": [
    "dff = pd.DataFrame({\"Total Hours\": df.groupby(['Employee Portal Id','Employee name','Work Date','Grade','Country','HLM ID','Att Type/Absence Type'])['Hours'].sum()}).reset_index()"
   ]
  },
  {
   "cell_type": "code",
   "execution_count": 15,
   "id": "c14906ea",
   "metadata": {},
   "outputs": [
    {
     "data": {
      "text/plain": [
       "(40150, 8)"
      ]
     },
     "execution_count": 15,
     "metadata": {},
     "output_type": "execute_result"
    }
   ],
   "source": [
    "dff.shape"
   ]
  },
  {
   "cell_type": "code",
   "execution_count": 16,
   "id": "d5e27e98",
   "metadata": {},
   "outputs": [
    {
     "data": {
      "text/html": [
       "<div>\n",
       "<style scoped>\n",
       "    .dataframe tbody tr th:only-of-type {\n",
       "        vertical-align: middle;\n",
       "    }\n",
       "\n",
       "    .dataframe tbody tr th {\n",
       "        vertical-align: top;\n",
       "    }\n",
       "\n",
       "    .dataframe thead th {\n",
       "        text-align: right;\n",
       "    }\n",
       "</style>\n",
       "<table border=\"1\" class=\"dataframe\">\n",
       "  <thead>\n",
       "    <tr style=\"text-align: right;\">\n",
       "      <th></th>\n",
       "      <th>Employee Portal Id</th>\n",
       "      <th>Employee name</th>\n",
       "      <th>Work Date</th>\n",
       "      <th>Grade</th>\n",
       "      <th>Country</th>\n",
       "      <th>HLM ID</th>\n",
       "      <th>Att Type/Absence Type</th>\n",
       "      <th>Total Hours</th>\n",
       "    </tr>\n",
       "  </thead>\n",
       "  <tbody>\n",
       "    <tr>\n",
       "      <th>0</th>\n",
       "      <td>13643</td>\n",
       "      <td>Puneet Kumar</td>\n",
       "      <td>2024-11-25</td>\n",
       "      <td>12.0</td>\n",
       "      <td>India</td>\n",
       "      <td>28875.0</td>\n",
       "      <td>REG</td>\n",
       "      <td>9.0</td>\n",
       "    </tr>\n",
       "    <tr>\n",
       "      <th>1</th>\n",
       "      <td>13643</td>\n",
       "      <td>Puneet Kumar</td>\n",
       "      <td>2024-11-26</td>\n",
       "      <td>12.0</td>\n",
       "      <td>India</td>\n",
       "      <td>28875.0</td>\n",
       "      <td>REG</td>\n",
       "      <td>9.0</td>\n",
       "    </tr>\n",
       "    <tr>\n",
       "      <th>2</th>\n",
       "      <td>13643</td>\n",
       "      <td>Puneet Kumar</td>\n",
       "      <td>2024-11-27</td>\n",
       "      <td>12.0</td>\n",
       "      <td>India</td>\n",
       "      <td>28875.0</td>\n",
       "      <td>Other leaves</td>\n",
       "      <td>4.5</td>\n",
       "    </tr>\n",
       "    <tr>\n",
       "      <th>3</th>\n",
       "      <td>13643</td>\n",
       "      <td>Puneet Kumar</td>\n",
       "      <td>2024-11-27</td>\n",
       "      <td>12.0</td>\n",
       "      <td>India</td>\n",
       "      <td>28875.0</td>\n",
       "      <td>REG</td>\n",
       "      <td>9.0</td>\n",
       "    </tr>\n",
       "    <tr>\n",
       "      <th>4</th>\n",
       "      <td>13643</td>\n",
       "      <td>Puneet Kumar</td>\n",
       "      <td>2024-11-28</td>\n",
       "      <td>12.0</td>\n",
       "      <td>India</td>\n",
       "      <td>28875.0</td>\n",
       "      <td>REG</td>\n",
       "      <td>9.0</td>\n",
       "    </tr>\n",
       "  </tbody>\n",
       "</table>\n",
       "</div>"
      ],
      "text/plain": [
       "   Employee Portal Id Employee name  Work Date  Grade Country   HLM ID  \\\n",
       "0               13643  Puneet Kumar 2024-11-25   12.0   India  28875.0   \n",
       "1               13643  Puneet Kumar 2024-11-26   12.0   India  28875.0   \n",
       "2               13643  Puneet Kumar 2024-11-27   12.0   India  28875.0   \n",
       "3               13643  Puneet Kumar 2024-11-27   12.0   India  28875.0   \n",
       "4               13643  Puneet Kumar 2024-11-28   12.0   India  28875.0   \n",
       "\n",
       "  Att Type/Absence Type  Total Hours  \n",
       "0                   REG          9.0  \n",
       "1                   REG          9.0  \n",
       "2          Other leaves          4.5  \n",
       "3                   REG          9.0  \n",
       "4                   REG          9.0  "
      ]
     },
     "execution_count": 16,
     "metadata": {},
     "output_type": "execute_result"
    }
   ],
   "source": [
    "dff.head()"
   ]
  },
  {
   "cell_type": "code",
   "execution_count": null,
   "id": "26fb58b6",
   "metadata": {},
   "outputs": [],
   "source": []
  },
  {
   "cell_type": "code",
   "execution_count": 17,
   "id": "db8a43a3",
   "metadata": {},
   "outputs": [],
   "source": [
    "#df1= df[(df['Hours'].isin([8,9]))]\n",
    "#df1"
   ]
  },
  {
   "cell_type": "code",
   "execution_count": 17,
   "id": "12414ccd",
   "metadata": {},
   "outputs": [
    {
     "data": {
      "text/plain": [
       "Total Hours\n",
       "9.00     31268\n",
       "8.00      5784\n",
       "2.00       778\n",
       "0.00       432\n",
       "4.50       331\n",
       "         ...  \n",
       "3.65         1\n",
       "4.35         1\n",
       "5.22         1\n",
       "11.07        1\n",
       "9.10         1\n",
       "Name: count, Length: 202, dtype: int64"
      ]
     },
     "execution_count": 17,
     "metadata": {},
     "output_type": "execute_result"
    }
   ],
   "source": [
    "dff['Total Hours'].value_counts()"
   ]
  },
  {
   "cell_type": "code",
   "execution_count": 18,
   "id": "bfa7efe0",
   "metadata": {},
   "outputs": [
    {
     "data": {
      "text/plain": [
       "Index(['Employee Portal Id', 'Employee name', 'Work Date', 'Grade', 'Country',\n",
       "       'HLM ID', 'Att Type/Absence Type', 'Total Hours'],\n",
       "      dtype='object')"
      ]
     },
     "execution_count": 18,
     "metadata": {},
     "output_type": "execute_result"
    }
   ],
   "source": [
    "dff.columns"
   ]
  },
  {
   "cell_type": "code",
   "execution_count": 20,
   "id": "6e043385",
   "metadata": {},
   "outputs": [],
   "source": [
    "final = dff.pivot_table(index=['Employee Portal Id','Employee name','Work Date','Grade','Country','HLM ID'],\n",
    "                     columns=['Att Type/Absence Type'],\n",
    "                     values='Total Hours')\\\n",
    "        .fillna(0).reset_index()"
   ]
  },
  {
   "cell_type": "code",
   "execution_count": 21,
   "id": "a3f2ba2d",
   "metadata": {},
   "outputs": [
    {
     "data": {
      "text/plain": [
       "Index(['Employee Portal Id', 'Employee name', 'Work Date', 'Grade', 'Country',\n",
       "       'HLM ID', 'Other leaves', 'REG'],\n",
       "      dtype='object', name='Att Type/Absence Type')"
      ]
     },
     "execution_count": 21,
     "metadata": {},
     "output_type": "execute_result"
    }
   ],
   "source": [
    "final.columns"
   ]
  },
  {
   "cell_type": "code",
   "execution_count": 22,
   "id": "6a5d8c0b",
   "metadata": {},
   "outputs": [
    {
     "data": {
      "text/plain": [
       "(38940, 8)"
      ]
     },
     "execution_count": 22,
     "metadata": {},
     "output_type": "execute_result"
    }
   ],
   "source": [
    "final.shape"
   ]
  },
  {
   "cell_type": "code",
   "execution_count": null,
   "id": "f24ac4af",
   "metadata": {},
   "outputs": [],
   "source": []
  },
  {
   "cell_type": "code",
   "execution_count": 23,
   "id": "1cb31f87",
   "metadata": {},
   "outputs": [
    {
     "data": {
      "text/plain": [
       "(38940, 8)"
      ]
     },
     "execution_count": 23,
     "metadata": {},
     "output_type": "execute_result"
    }
   ],
   "source": [
    "final.shape"
   ]
  },
  {
   "cell_type": "code",
   "execution_count": 24,
   "id": "dff8b5af",
   "metadata": {},
   "outputs": [],
   "source": [
    "final['Total Hours']= final['Other leaves']+final['REG']"
   ]
  },
  {
   "cell_type": "code",
   "execution_count": 25,
   "id": "ab21660d",
   "metadata": {},
   "outputs": [
    {
     "data": {
      "text/html": [
       "<div>\n",
       "<style scoped>\n",
       "    .dataframe tbody tr th:only-of-type {\n",
       "        vertical-align: middle;\n",
       "    }\n",
       "\n",
       "    .dataframe tbody tr th {\n",
       "        vertical-align: top;\n",
       "    }\n",
       "\n",
       "    .dataframe thead th {\n",
       "        text-align: right;\n",
       "    }\n",
       "</style>\n",
       "<table border=\"1\" class=\"dataframe\">\n",
       "  <thead>\n",
       "    <tr style=\"text-align: right;\">\n",
       "      <th>Att Type/Absence Type</th>\n",
       "      <th>Employee Portal Id</th>\n",
       "      <th>Employee name</th>\n",
       "      <th>Work Date</th>\n",
       "      <th>Grade</th>\n",
       "      <th>Country</th>\n",
       "      <th>HLM ID</th>\n",
       "      <th>Other leaves</th>\n",
       "      <th>REG</th>\n",
       "      <th>Total Hours</th>\n",
       "    </tr>\n",
       "  </thead>\n",
       "  <tbody>\n",
       "  </tbody>\n",
       "</table>\n",
       "</div>"
      ],
      "text/plain": [
       "Empty DataFrame\n",
       "Columns: [Employee Portal Id, Employee name, Work Date, Grade, Country, HLM ID, Other leaves, REG, Total Hours]\n",
       "Index: []"
      ]
     },
     "execution_count": 25,
     "metadata": {},
     "output_type": "execute_result"
    }
   ],
   "source": [
    "final[final['Employee Portal Id'] == 312553]"
   ]
  },
  {
   "cell_type": "code",
   "execution_count": 26,
   "id": "248eaa68",
   "metadata": {},
   "outputs": [],
   "source": [
    "#final[final['Employee Portal Id'] == 257402]"
   ]
  },
  {
   "cell_type": "code",
   "execution_count": 27,
   "id": "7daba32a",
   "metadata": {},
   "outputs": [],
   "source": [
    "final['Reversal'] = np.where(\n",
    "    final['Country'] == 'India',final['Total Hours'] - 9 , final['Total Hours'] - 8)"
   ]
  },
  {
   "cell_type": "code",
   "execution_count": 28,
   "id": "8d75b4df",
   "metadata": {},
   "outputs": [
    {
     "data": {
      "text/html": [
       "<div>\n",
       "<style scoped>\n",
       "    .dataframe tbody tr th:only-of-type {\n",
       "        vertical-align: middle;\n",
       "    }\n",
       "\n",
       "    .dataframe tbody tr th {\n",
       "        vertical-align: top;\n",
       "    }\n",
       "\n",
       "    .dataframe thead th {\n",
       "        text-align: right;\n",
       "    }\n",
       "</style>\n",
       "<table border=\"1\" class=\"dataframe\">\n",
       "  <thead>\n",
       "    <tr style=\"text-align: right;\">\n",
       "      <th>Att Type/Absence Type</th>\n",
       "      <th>Employee Portal Id</th>\n",
       "      <th>Employee name</th>\n",
       "      <th>Work Date</th>\n",
       "      <th>Grade</th>\n",
       "      <th>Country</th>\n",
       "      <th>HLM ID</th>\n",
       "      <th>Other leaves</th>\n",
       "      <th>REG</th>\n",
       "      <th>Total Hours</th>\n",
       "      <th>Reversal</th>\n",
       "    </tr>\n",
       "  </thead>\n",
       "  <tbody>\n",
       "    <tr>\n",
       "      <th>0</th>\n",
       "      <td>13643</td>\n",
       "      <td>Puneet Kumar</td>\n",
       "      <td>2024-11-25</td>\n",
       "      <td>12.0</td>\n",
       "      <td>India</td>\n",
       "      <td>28875.0</td>\n",
       "      <td>0.0</td>\n",
       "      <td>9.0</td>\n",
       "      <td>9.0</td>\n",
       "      <td>0.0</td>\n",
       "    </tr>\n",
       "    <tr>\n",
       "      <th>1</th>\n",
       "      <td>13643</td>\n",
       "      <td>Puneet Kumar</td>\n",
       "      <td>2024-11-26</td>\n",
       "      <td>12.0</td>\n",
       "      <td>India</td>\n",
       "      <td>28875.0</td>\n",
       "      <td>0.0</td>\n",
       "      <td>9.0</td>\n",
       "      <td>9.0</td>\n",
       "      <td>0.0</td>\n",
       "    </tr>\n",
       "    <tr>\n",
       "      <th>2</th>\n",
       "      <td>13643</td>\n",
       "      <td>Puneet Kumar</td>\n",
       "      <td>2024-11-27</td>\n",
       "      <td>12.0</td>\n",
       "      <td>India</td>\n",
       "      <td>28875.0</td>\n",
       "      <td>4.5</td>\n",
       "      <td>9.0</td>\n",
       "      <td>13.5</td>\n",
       "      <td>4.5</td>\n",
       "    </tr>\n",
       "    <tr>\n",
       "      <th>3</th>\n",
       "      <td>13643</td>\n",
       "      <td>Puneet Kumar</td>\n",
       "      <td>2024-11-28</td>\n",
       "      <td>12.0</td>\n",
       "      <td>India</td>\n",
       "      <td>28875.0</td>\n",
       "      <td>0.0</td>\n",
       "      <td>9.0</td>\n",
       "      <td>9.0</td>\n",
       "      <td>0.0</td>\n",
       "    </tr>\n",
       "    <tr>\n",
       "      <th>4</th>\n",
       "      <td>13643</td>\n",
       "      <td>Puneet Kumar</td>\n",
       "      <td>2024-11-29</td>\n",
       "      <td>12.0</td>\n",
       "      <td>India</td>\n",
       "      <td>28875.0</td>\n",
       "      <td>0.0</td>\n",
       "      <td>9.0</td>\n",
       "      <td>9.0</td>\n",
       "      <td>0.0</td>\n",
       "    </tr>\n",
       "    <tr>\n",
       "      <th>...</th>\n",
       "      <td>...</td>\n",
       "      <td>...</td>\n",
       "      <td>...</td>\n",
       "      <td>...</td>\n",
       "      <td>...</td>\n",
       "      <td>...</td>\n",
       "      <td>...</td>\n",
       "      <td>...</td>\n",
       "      <td>...</td>\n",
       "      <td>...</td>\n",
       "    </tr>\n",
       "    <tr>\n",
       "      <th>38935</th>\n",
       "      <td>338115</td>\n",
       "      <td>Tripti Khaneja</td>\n",
       "      <td>2024-11-27</td>\n",
       "      <td>5.0</td>\n",
       "      <td>India</td>\n",
       "      <td>78595.0</td>\n",
       "      <td>0.0</td>\n",
       "      <td>9.0</td>\n",
       "      <td>9.0</td>\n",
       "      <td>0.0</td>\n",
       "    </tr>\n",
       "    <tr>\n",
       "      <th>38936</th>\n",
       "      <td>338115</td>\n",
       "      <td>Tripti Khaneja</td>\n",
       "      <td>2024-11-29</td>\n",
       "      <td>5.0</td>\n",
       "      <td>India</td>\n",
       "      <td>78595.0</td>\n",
       "      <td>0.0</td>\n",
       "      <td>9.0</td>\n",
       "      <td>9.0</td>\n",
       "      <td>0.0</td>\n",
       "    </tr>\n",
       "    <tr>\n",
       "      <th>38937</th>\n",
       "      <td>338237</td>\n",
       "      <td>Muhammad Ismail</td>\n",
       "      <td>2024-11-25</td>\n",
       "      <td>3.0</td>\n",
       "      <td>United States</td>\n",
       "      <td>240112.0</td>\n",
       "      <td>0.0</td>\n",
       "      <td>8.0</td>\n",
       "      <td>8.0</td>\n",
       "      <td>0.0</td>\n",
       "    </tr>\n",
       "    <tr>\n",
       "      <th>38938</th>\n",
       "      <td>338237</td>\n",
       "      <td>Muhammad Ismail</td>\n",
       "      <td>2024-11-26</td>\n",
       "      <td>3.0</td>\n",
       "      <td>United States</td>\n",
       "      <td>240112.0</td>\n",
       "      <td>0.0</td>\n",
       "      <td>8.0</td>\n",
       "      <td>8.0</td>\n",
       "      <td>0.0</td>\n",
       "    </tr>\n",
       "    <tr>\n",
       "      <th>38939</th>\n",
       "      <td>338237</td>\n",
       "      <td>Muhammad Ismail</td>\n",
       "      <td>2024-11-27</td>\n",
       "      <td>3.0</td>\n",
       "      <td>United States</td>\n",
       "      <td>240112.0</td>\n",
       "      <td>0.0</td>\n",
       "      <td>8.0</td>\n",
       "      <td>8.0</td>\n",
       "      <td>0.0</td>\n",
       "    </tr>\n",
       "  </tbody>\n",
       "</table>\n",
       "<p>38940 rows × 10 columns</p>\n",
       "</div>"
      ],
      "text/plain": [
       "Att Type/Absence Type  Employee Portal Id    Employee name  Work Date  Grade  \\\n",
       "0                                   13643     Puneet Kumar 2024-11-25   12.0   \n",
       "1                                   13643     Puneet Kumar 2024-11-26   12.0   \n",
       "2                                   13643     Puneet Kumar 2024-11-27   12.0   \n",
       "3                                   13643     Puneet Kumar 2024-11-28   12.0   \n",
       "4                                   13643     Puneet Kumar 2024-11-29   12.0   \n",
       "...                                   ...              ...        ...    ...   \n",
       "38935                              338115   Tripti Khaneja 2024-11-27    5.0   \n",
       "38936                              338115   Tripti Khaneja 2024-11-29    5.0   \n",
       "38937                              338237  Muhammad Ismail 2024-11-25    3.0   \n",
       "38938                              338237  Muhammad Ismail 2024-11-26    3.0   \n",
       "38939                              338237  Muhammad Ismail 2024-11-27    3.0   \n",
       "\n",
       "Att Type/Absence Type        Country    HLM ID  Other leaves  REG  \\\n",
       "0                              India   28875.0           0.0  9.0   \n",
       "1                              India   28875.0           0.0  9.0   \n",
       "2                              India   28875.0           4.5  9.0   \n",
       "3                              India   28875.0           0.0  9.0   \n",
       "4                              India   28875.0           0.0  9.0   \n",
       "...                              ...       ...           ...  ...   \n",
       "38935                          India   78595.0           0.0  9.0   \n",
       "38936                          India   78595.0           0.0  9.0   \n",
       "38937                  United States  240112.0           0.0  8.0   \n",
       "38938                  United States  240112.0           0.0  8.0   \n",
       "38939                  United States  240112.0           0.0  8.0   \n",
       "\n",
       "Att Type/Absence Type  Total Hours  Reversal  \n",
       "0                              9.0       0.0  \n",
       "1                              9.0       0.0  \n",
       "2                             13.5       4.5  \n",
       "3                              9.0       0.0  \n",
       "4                              9.0       0.0  \n",
       "...                            ...       ...  \n",
       "38935                          9.0       0.0  \n",
       "38936                          9.0       0.0  \n",
       "38937                          8.0       0.0  \n",
       "38938                          8.0       0.0  \n",
       "38939                          8.0       0.0  \n",
       "\n",
       "[38940 rows x 10 columns]"
      ]
     },
     "execution_count": 28,
     "metadata": {},
     "output_type": "execute_result"
    }
   ],
   "source": [
    "final"
   ]
  },
  {
   "cell_type": "code",
   "execution_count": 29,
   "id": "486d649b",
   "metadata": {},
   "outputs": [
    {
     "data": {
      "text/html": [
       "<div>\n",
       "<style scoped>\n",
       "    .dataframe tbody tr th:only-of-type {\n",
       "        vertical-align: middle;\n",
       "    }\n",
       "\n",
       "    .dataframe tbody tr th {\n",
       "        vertical-align: top;\n",
       "    }\n",
       "\n",
       "    .dataframe thead th {\n",
       "        text-align: right;\n",
       "    }\n",
       "</style>\n",
       "<table border=\"1\" class=\"dataframe\">\n",
       "  <thead>\n",
       "    <tr style=\"text-align: right;\">\n",
       "      <th>Att Type/Absence Type</th>\n",
       "      <th>Employee Portal Id</th>\n",
       "      <th>Employee name</th>\n",
       "      <th>Work Date</th>\n",
       "      <th>Grade</th>\n",
       "      <th>Country</th>\n",
       "      <th>HLM ID</th>\n",
       "      <th>Other leaves</th>\n",
       "      <th>REG</th>\n",
       "      <th>Total Hours</th>\n",
       "      <th>Reversal</th>\n",
       "    </tr>\n",
       "  </thead>\n",
       "  <tbody>\n",
       "  </tbody>\n",
       "</table>\n",
       "</div>"
      ],
      "text/plain": [
       "Empty DataFrame\n",
       "Columns: [Employee Portal Id, Employee name, Work Date, Grade, Country, HLM ID, Other leaves, REG, Total Hours, Reversal]\n",
       "Index: []"
      ]
     },
     "execution_count": 29,
     "metadata": {},
     "output_type": "execute_result"
    }
   ],
   "source": [
    "final[final['Employee Portal Id'] == 267593 ]"
   ]
  },
  {
   "cell_type": "code",
   "execution_count": 30,
   "id": "967505dc",
   "metadata": {},
   "outputs": [
    {
     "data": {
      "text/plain": [
       "Index(['Employee Portal Id', 'Employee name', 'Work Date', 'Grade', 'Country',\n",
       "       'HLM ID', 'Other leaves', 'REG', 'Total Hours', 'Reversal'],\n",
       "      dtype='object', name='Att Type/Absence Type')"
      ]
     },
     "execution_count": 30,
     "metadata": {},
     "output_type": "execute_result"
    }
   ],
   "source": [
    "final.columns"
   ]
  },
  {
   "cell_type": "code",
   "execution_count": 31,
   "id": "77743dc1",
   "metadata": {},
   "outputs": [
    {
     "data": {
      "text/plain": [
       "Total Hours\n",
       "9.00     30552\n",
       "8.00      5927\n",
       "11.00      746\n",
       "0.00       419\n",
       "10.00      357\n",
       "         ...  \n",
       "8.58         1\n",
       "5.22         1\n",
       "11.07        1\n",
       "6.30         1\n",
       "9.10         1\n",
       "Name: count, Length: 169, dtype: int64"
      ]
     },
     "execution_count": 31,
     "metadata": {},
     "output_type": "execute_result"
    }
   ],
   "source": [
    "final['Total Hours'].value_counts()"
   ]
  },
  {
   "cell_type": "code",
   "execution_count": 32,
   "id": "7045c9e1",
   "metadata": {},
   "outputs": [
    {
     "data": {
      "text/html": [
       "<div>\n",
       "<style scoped>\n",
       "    .dataframe tbody tr th:only-of-type {\n",
       "        vertical-align: middle;\n",
       "    }\n",
       "\n",
       "    .dataframe tbody tr th {\n",
       "        vertical-align: top;\n",
       "    }\n",
       "\n",
       "    .dataframe thead th {\n",
       "        text-align: right;\n",
       "    }\n",
       "</style>\n",
       "<table border=\"1\" class=\"dataframe\">\n",
       "  <thead>\n",
       "    <tr style=\"text-align: right;\">\n",
       "      <th>Att Type/Absence Type</th>\n",
       "      <th>Employee Portal Id</th>\n",
       "      <th>Employee name</th>\n",
       "      <th>Work Date</th>\n",
       "      <th>Grade</th>\n",
       "      <th>Country</th>\n",
       "      <th>HLM ID</th>\n",
       "      <th>Other leaves</th>\n",
       "      <th>REG</th>\n",
       "      <th>Total Hours</th>\n",
       "      <th>Reversal</th>\n",
       "    </tr>\n",
       "  </thead>\n",
       "  <tbody>\n",
       "    <tr>\n",
       "      <th>0</th>\n",
       "      <td>13643</td>\n",
       "      <td>Puneet Kumar</td>\n",
       "      <td>2024-11-25</td>\n",
       "      <td>12.0</td>\n",
       "      <td>India</td>\n",
       "      <td>28875.0</td>\n",
       "      <td>0.0</td>\n",
       "      <td>9.0</td>\n",
       "      <td>9.0</td>\n",
       "      <td>0.0</td>\n",
       "    </tr>\n",
       "    <tr>\n",
       "      <th>1</th>\n",
       "      <td>13643</td>\n",
       "      <td>Puneet Kumar</td>\n",
       "      <td>2024-11-26</td>\n",
       "      <td>12.0</td>\n",
       "      <td>India</td>\n",
       "      <td>28875.0</td>\n",
       "      <td>0.0</td>\n",
       "      <td>9.0</td>\n",
       "      <td>9.0</td>\n",
       "      <td>0.0</td>\n",
       "    </tr>\n",
       "    <tr>\n",
       "      <th>2</th>\n",
       "      <td>13643</td>\n",
       "      <td>Puneet Kumar</td>\n",
       "      <td>2024-11-27</td>\n",
       "      <td>12.0</td>\n",
       "      <td>India</td>\n",
       "      <td>28875.0</td>\n",
       "      <td>4.5</td>\n",
       "      <td>9.0</td>\n",
       "      <td>13.5</td>\n",
       "      <td>4.5</td>\n",
       "    </tr>\n",
       "    <tr>\n",
       "      <th>3</th>\n",
       "      <td>13643</td>\n",
       "      <td>Puneet Kumar</td>\n",
       "      <td>2024-11-28</td>\n",
       "      <td>12.0</td>\n",
       "      <td>India</td>\n",
       "      <td>28875.0</td>\n",
       "      <td>0.0</td>\n",
       "      <td>9.0</td>\n",
       "      <td>9.0</td>\n",
       "      <td>0.0</td>\n",
       "    </tr>\n",
       "    <tr>\n",
       "      <th>4</th>\n",
       "      <td>13643</td>\n",
       "      <td>Puneet Kumar</td>\n",
       "      <td>2024-11-29</td>\n",
       "      <td>12.0</td>\n",
       "      <td>India</td>\n",
       "      <td>28875.0</td>\n",
       "      <td>0.0</td>\n",
       "      <td>9.0</td>\n",
       "      <td>9.0</td>\n",
       "      <td>0.0</td>\n",
       "    </tr>\n",
       "    <tr>\n",
       "      <th>...</th>\n",
       "      <td>...</td>\n",
       "      <td>...</td>\n",
       "      <td>...</td>\n",
       "      <td>...</td>\n",
       "      <td>...</td>\n",
       "      <td>...</td>\n",
       "      <td>...</td>\n",
       "      <td>...</td>\n",
       "      <td>...</td>\n",
       "      <td>...</td>\n",
       "    </tr>\n",
       "    <tr>\n",
       "      <th>38935</th>\n",
       "      <td>338115</td>\n",
       "      <td>Tripti Khaneja</td>\n",
       "      <td>2024-11-27</td>\n",
       "      <td>5.0</td>\n",
       "      <td>India</td>\n",
       "      <td>78595.0</td>\n",
       "      <td>0.0</td>\n",
       "      <td>9.0</td>\n",
       "      <td>9.0</td>\n",
       "      <td>0.0</td>\n",
       "    </tr>\n",
       "    <tr>\n",
       "      <th>38936</th>\n",
       "      <td>338115</td>\n",
       "      <td>Tripti Khaneja</td>\n",
       "      <td>2024-11-29</td>\n",
       "      <td>5.0</td>\n",
       "      <td>India</td>\n",
       "      <td>78595.0</td>\n",
       "      <td>0.0</td>\n",
       "      <td>9.0</td>\n",
       "      <td>9.0</td>\n",
       "      <td>0.0</td>\n",
       "    </tr>\n",
       "    <tr>\n",
       "      <th>38937</th>\n",
       "      <td>338237</td>\n",
       "      <td>Muhammad Ismail</td>\n",
       "      <td>2024-11-25</td>\n",
       "      <td>3.0</td>\n",
       "      <td>United States</td>\n",
       "      <td>240112.0</td>\n",
       "      <td>0.0</td>\n",
       "      <td>8.0</td>\n",
       "      <td>8.0</td>\n",
       "      <td>0.0</td>\n",
       "    </tr>\n",
       "    <tr>\n",
       "      <th>38938</th>\n",
       "      <td>338237</td>\n",
       "      <td>Muhammad Ismail</td>\n",
       "      <td>2024-11-26</td>\n",
       "      <td>3.0</td>\n",
       "      <td>United States</td>\n",
       "      <td>240112.0</td>\n",
       "      <td>0.0</td>\n",
       "      <td>8.0</td>\n",
       "      <td>8.0</td>\n",
       "      <td>0.0</td>\n",
       "    </tr>\n",
       "    <tr>\n",
       "      <th>38939</th>\n",
       "      <td>338237</td>\n",
       "      <td>Muhammad Ismail</td>\n",
       "      <td>2024-11-27</td>\n",
       "      <td>3.0</td>\n",
       "      <td>United States</td>\n",
       "      <td>240112.0</td>\n",
       "      <td>0.0</td>\n",
       "      <td>8.0</td>\n",
       "      <td>8.0</td>\n",
       "      <td>0.0</td>\n",
       "    </tr>\n",
       "  </tbody>\n",
       "</table>\n",
       "<p>38940 rows × 10 columns</p>\n",
       "</div>"
      ],
      "text/plain": [
       "Att Type/Absence Type  Employee Portal Id    Employee name  Work Date  Grade  \\\n",
       "0                                   13643     Puneet Kumar 2024-11-25   12.0   \n",
       "1                                   13643     Puneet Kumar 2024-11-26   12.0   \n",
       "2                                   13643     Puneet Kumar 2024-11-27   12.0   \n",
       "3                                   13643     Puneet Kumar 2024-11-28   12.0   \n",
       "4                                   13643     Puneet Kumar 2024-11-29   12.0   \n",
       "...                                   ...              ...        ...    ...   \n",
       "38935                              338115   Tripti Khaneja 2024-11-27    5.0   \n",
       "38936                              338115   Tripti Khaneja 2024-11-29    5.0   \n",
       "38937                              338237  Muhammad Ismail 2024-11-25    3.0   \n",
       "38938                              338237  Muhammad Ismail 2024-11-26    3.0   \n",
       "38939                              338237  Muhammad Ismail 2024-11-27    3.0   \n",
       "\n",
       "Att Type/Absence Type        Country    HLM ID  Other leaves  REG  \\\n",
       "0                              India   28875.0           0.0  9.0   \n",
       "1                              India   28875.0           0.0  9.0   \n",
       "2                              India   28875.0           4.5  9.0   \n",
       "3                              India   28875.0           0.0  9.0   \n",
       "4                              India   28875.0           0.0  9.0   \n",
       "...                              ...       ...           ...  ...   \n",
       "38935                          India   78595.0           0.0  9.0   \n",
       "38936                          India   78595.0           0.0  9.0   \n",
       "38937                  United States  240112.0           0.0  8.0   \n",
       "38938                  United States  240112.0           0.0  8.0   \n",
       "38939                  United States  240112.0           0.0  8.0   \n",
       "\n",
       "Att Type/Absence Type  Total Hours  Reversal  \n",
       "0                              9.0       0.0  \n",
       "1                              9.0       0.0  \n",
       "2                             13.5       4.5  \n",
       "3                              9.0       0.0  \n",
       "4                              9.0       0.0  \n",
       "...                            ...       ...  \n",
       "38935                          9.0       0.0  \n",
       "38936                          9.0       0.0  \n",
       "38937                          8.0       0.0  \n",
       "38938                          8.0       0.0  \n",
       "38939                          8.0       0.0  \n",
       "\n",
       "[38940 rows x 10 columns]"
      ]
     },
     "execution_count": 32,
     "metadata": {},
     "output_type": "execute_result"
    }
   ],
   "source": [
    "final"
   ]
  },
  {
   "cell_type": "code",
   "execution_count": null,
   "id": "2906c3f8",
   "metadata": {},
   "outputs": [],
   "source": []
  },
  {
   "cell_type": "code",
   "execution_count": null,
   "id": "225be798",
   "metadata": {},
   "outputs": [],
   "source": []
  },
  {
   "cell_type": "code",
   "execution_count": null,
   "id": "cc92318f",
   "metadata": {},
   "outputs": [],
   "source": []
  },
  {
   "cell_type": "code",
   "execution_count": null,
   "id": "f7a896b9",
   "metadata": {},
   "outputs": [],
   "source": []
  },
  {
   "cell_type": "code",
   "execution_count": 33,
   "id": "099df6c0",
   "metadata": {},
   "outputs": [],
   "source": [
    "May_OT=final.to_excel(r'C:\\Users\\180100\\OneDrive - NTT DATA North America\\SAP\\Output\\call\\DEC03 dup.xlsx', index=False)\n",
    "May_OT"
   ]
  },
  {
   "cell_type": "code",
   "execution_count": null,
   "id": "30507f0e",
   "metadata": {},
   "outputs": [],
   "source": []
  }
 ],
 "metadata": {
  "kernelspec": {
   "display_name": "Python 3",
   "language": "python",
   "name": "python3"
  },
  "language_info": {
   "codemirror_mode": {
    "name": "ipython",
    "version": 3
   },
   "file_extension": ".py",
   "mimetype": "text/x-python",
   "name": "python",
   "nbconvert_exporter": "python",
   "pygments_lexer": "ipython3",
   "version": "3.12.7"
  }
 },
 "nbformat": 4,
 "nbformat_minor": 5
}
