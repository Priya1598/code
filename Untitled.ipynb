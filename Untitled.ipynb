{
 "cells": [
  {
   "cell_type": "code",
   "execution_count": null,
   "id": "59f4c550-7b1e-497d-8a9d-1ec73c36a1c2",
   "metadata": {},
   "outputs": [],
   "source": [
    "import os\n",
    "import time\n",
    "from playwright.sync_api import Playwright, sync_playwright\n",
    " \n",
    "cd = os.getcwd()\n",
    " \n",
    " \n",
    "with open(rf'{cd}\\input_location.txt', 'r') as file:\n",
    "    lines = file.readlines()\n",
    "    filter_conditions = eval(lines[0].strip())\n",
    " \n",
    "def run(playwright: Playwright):\n",
    "    chrome_path = \"C:\\\\Program Files\\\\Google\\\\Chrome\\\\Application\\\\chrome.exe\"  # Update with your path\n",
    "    browser = playwright.chromium.launch(headless=False, executable_path=chrome_path)\n",
    "    context = browser.new_context()\n",
    "    page = context.new_page()\n",
    " \n",
    "   \n",
    "    page.goto(\"https://saa.portal.nttdataservices.com/powerbireports/powerbi/PROD/LMS/Courses/Catalys_Home\")\n",
    " \n",
    " \n",
    "    time.sleep(160)\n",
    "    frame = page.frame_locator(\"iframe\").first\n",
    " \n",
    "    \n",
    "    check_box = frame.locator('//*[@id=\"pvExplorationHost\"]/div/div/exploration/div/explore-canvas/div/div[2]/div/div[2]/div[2]/visual-container-repeat/visual-container[13]/transform/div/div[2]/div/div/visual-modern/div/div/div[2]/div/div[2]/div/div[1]/div/div/div/div/div/span')\n",
    "    check_box.click()\n",
    " \n",
    "    for key, values in filter_conditions.items():\n",
    "        # Search for the key\n",
    "        search_box = frame.locator('//*[@id=\"pvExplorationHost\"]/div/div/exploration/div/explore-canvas/div/div[2]/div/div[2]/div[2]/visual-container-repeat/visual-container[19]/transform/div/div[2]/div/div/visual-modern/div/div/div[2]/div/div[1]/input')\n",
    "        search_box.click()\n",
    "        search_box.fill(key)\n",
    "        time.sleep(10)\n",
    "        print(key)\n",
    " \n",
    "      \n",
    "        check_box_selector = frame.locator('//*[@id=\"pvExplorationHost\"]/div/div/exploration/div/explore-canvas/div/div[2]/div/div[2]/div[2]/visual-container-repeat/visual-container[19]/transform/div/div[2]/div/div/visual-modern/div/div/div[2]/div/div[2]/div/div[1]/div/div/div/div/span')\n",
    "        check_box_selector.click()\n",
    "        time.sleep(15)\n",
    " \n",
    "        course_search_box = frame.locator('//*[@id=\"pvExplorationHost\"]/div/div/exploration/div/explore-canvas/div/div[2]/div/div[2]/div[2]/visual-container-repeat/visual-container[26]/transform/div/div[2]/div/div/visual-modern/div/div/div[2]/div/div[1]/input')\n",
    "        for value in values:\n",
    "            course_search_box.click()\n",
    "            course_search_box.fill(value)\n",
    "            time.sleep(10)\n",
    "            print(value)\n",
    "            try:\n",
    "                fstcourse_selector = frame.locator('//*[@id=\"pvExplorationHost\"]/div/div/exploration/div/explore-canvas/div/div[2]/div/div[2]/div[2]/visual-container-repeat/visual-container[26]/transform/div/div[2]/div/div/visual-modern/div/div/div[2]/div/div[2]/div/div[1]/div/div/div/div/span')\n",
    "                fstcourse_selector.click()\n",
    "                time.sleep(10)\n",
    "            except:\n",
    "                course_selector = frame.locator('//*[@id=\"pvExplorationHost\"]/div/div/exploration/div/explore-canvas/div/div[2]/div/div[2]/div[2]/visual-container-repeat/visual-container[26]/transform/div/div[2]/div/div/visual-modern/div/div/div[2]/div/div[2]/div/div[1]/div/div/div[1]/div/span')\n",
    "                course_selector.click()\n",
    "                time.sleep(10)\n",
    " \n",
    "            # Click the download button\n",
    "            download = frame.locator('//*[@id=\"pvExplorationHost\"]/div/div/exploration/div/explore-canvas/div/div[2]/div/div[2]/div[2]/visual-container-repeat/visual-container[10]/transform/div/div[2]/div/div')\n",
    "            download.click()\n",
    "            time.sleep(30)\n",
    " \n",
    "    browser.close()\n",
    " \n",
    " \n",
    "playwright = sync_playwright().start()\n",
    "try:\n",
    "    run(playwright)\n",
    "finally:\n",
    "    playwright.stop()"
   ]
  },
  {
   "cell_type": "code",
   "execution_count": null,
   "id": "16c52aef-9ab5-4c94-bee9-be0c50bf5bb4",
   "metadata": {},
   "outputs": [],
   "source": []
  },
  {
   "cell_type": "code",
   "execution_count": null,
   "id": "d93016c9-496d-4ddd-a0a7-6d2a9befde12",
   "metadata": {},
   "outputs": [],
   "source": []
  },
  {
   "cell_type": "code",
   "execution_count": null,
   "id": "3c8347c6-3e79-4517-8096-d7b4794380f7",
   "metadata": {},
   "outputs": [],
   "source": []
  },
  {
   "cell_type": "code",
   "execution_count": null,
   "id": "5a83443d-931a-4f27-bd52-35288e05b302",
   "metadata": {},
   "outputs": [],
   "source": []
  },
  {
   "cell_type": "code",
   "execution_count": null,
   "id": "2785c354-fd6b-472f-b5e5-f7034f2cf3c2",
   "metadata": {},
   "outputs": [],
   "source": []
  },
  {
   "cell_type": "code",
   "execution_count": null,
   "id": "aab6b7c2-13e8-4fe9-9100-8b71246b2e53",
   "metadata": {},
   "outputs": [],
   "source": []
  },
  {
   "cell_type": "code",
   "execution_count": null,
   "id": "c634e9bb-e8f3-46c9-873f-f8fc97caa525",
   "metadata": {},
   "outputs": [],
   "source": []
  },
  {
   "cell_type": "code",
   "execution_count": null,
   "id": "a6cd2a16-db04-4c81-924a-c7985d224ba1",
   "metadata": {},
   "outputs": [],
   "source": []
  },
  {
   "cell_type": "code",
   "execution_count": null,
   "id": "17b66c04-b568-4e22-ae47-d4fb7ea7a421",
   "metadata": {},
   "outputs": [],
   "source": []
  },
  {
   "cell_type": "code",
   "execution_count": null,
   "id": "120cf7be-c6b7-49b7-a426-720d305b04dd",
   "metadata": {},
   "outputs": [],
   "source": []
  },
  {
   "cell_type": "code",
   "execution_count": null,
   "id": "7e0bbfb9-be8f-48c6-89ef-fd48d9114425",
   "metadata": {},
   "outputs": [],
   "source": []
  }
 ],
 "metadata": {
  "kernelspec": {
   "display_name": "Python 3 (ipykernel)",
   "language": "python",
   "name": "python3"
  },
  "language_info": {
   "codemirror_mode": {
    "name": "ipython",
    "version": 3
   },
   "file_extension": ".py",
   "mimetype": "text/x-python",
   "name": "python",
   "nbconvert_exporter": "python",
   "pygments_lexer": "ipython3",
   "version": "3.13.1"
  }
 },
 "nbformat": 4,
 "nbformat_minor": 5
}
